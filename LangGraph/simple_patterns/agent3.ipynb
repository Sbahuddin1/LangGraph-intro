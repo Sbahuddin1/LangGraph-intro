{
 "cells": [
  {
   "cell_type": "code",
   "execution_count": 41,
   "id": "83723b98",
   "metadata": {},
   "outputs": [],
   "source": [
    "from typing import List, TypedDict\n",
    "from langgraph.graph import StateGraph, START, END"
   ]
  },
  {
   "cell_type": "code",
   "execution_count": 42,
   "id": "1c0c8901",
   "metadata": {},
   "outputs": [],
   "source": [
    "class AgentState(TypedDict):\n",
    "    \"\"\" State for the agent. \"\"\"\n",
    "\n",
    "    num1: float\n",
    "    num2: float\n",
    "    num3: float\n",
    "    num4: float\n",
    "    operation1: str\n",
    "    operation2: str\n",
    "    operation3: str\n",
    "    mid: float\n",
    "    mid2: float\n",
    "    final: float\n"
   ]
  },
  {
   "cell_type": "code",
   "execution_count": 48,
   "id": "142b3fbb",
   "metadata": {},
   "outputs": [],
   "source": [
    "def add(state: AgentState) -> AgentState:\n",
    "    state['mid'] = state['num1'] + state['num2']\n",
    "    return state\n",
    "\n",
    "\n",
    "def add2(state: AgentState) -> AgentState:\n",
    "    state['mid2'] = state['num3'] + state['num4']\n",
    "    return state\n",
    "\n",
    "\n",
    "def subtract(state: AgentState) -> AgentState:\n",
    "    state['mid'] = state['num1'] - state['num2']\n",
    "    return state\n",
    "\n",
    "\n",
    "def subtract2(state: AgentState) -> AgentState:\n",
    "    state['mid2'] = state['num3'] - state['num4']\n",
    "    return state\n",
    "\n",
    "\n",
    "def add3(state: AgentState) -> AgentState:\n",
    "    \"\"\" Perform addition on the final two numbers.\"\"\"\n",
    "    state['final'] = state['mid'] + state['mid2']\n",
    "    return state\n",
    "\n",
    "\n",
    "def subtract3(state: AgentState) -> AgentState:\n",
    "    \"\"\" Perform subtraction on the final two numbers.\"\"\"\n",
    "    state['final'] = state['mid'] - state['mid2']\n",
    "    return state"
   ]
  },
  {
   "cell_type": "code",
   "execution_count": 49,
   "id": "5f98baa8",
   "metadata": {},
   "outputs": [],
   "source": [
    "def router1(state: AgentState) -> str:\n",
    "    return 'add1' if state['operation1'] == '+' else 'sub1'\n",
    "\n",
    "\n",
    "def router2(state: AgentState) -> str:\n",
    "    return 'add2' if state['operation2'] == '+' else 'sub2'\n",
    "\n",
    "\n",
    "def router3(state: AgentState) -> str:\n",
    "    return 'add3' if state['operation3'] == '+' else 'sub3'\n"
   ]
  },
  {
   "cell_type": "code",
   "execution_count": 54,
   "id": "556f3115",
   "metadata": {},
   "outputs": [],
   "source": [
    "# Create the graph\n",
    "graph = StateGraph(AgentState)\n",
    "\n",
    "# Add operation nodes with correct function references\n",
    "graph.add_node('add1', add)\n",
    "graph.add_node('sub1', subtract)\n",
    "graph.add_node('add2', add2)\n",
    "graph.add_node('sub2', subtract2)\n",
    "graph.add_node('add3', add3)\n",
    "graph.add_node('sub3', subtract3)\n",
    "\n",
    "# Add router nodes\n",
    "graph.add_node('router1', lambda state: state)\n",
    "graph.add_node('router2', lambda state: state)\n",
    "graph.add_node('router3', lambda state: state)\n",
    "\n",
    "# Sequential execution: Start with first operation\n",
    "graph.add_edge(START, 'router1')\n",
    "\n",
    "# Conditional routing for first operation\n",
    "graph.add_conditional_edges('router1', router1, {\n",
    "    'add1': 'add1',\n",
    "    'sub1': 'sub1'\n",
    "})\n",
    "\n",
    "# After first operation, go to second operation\n",
    "graph.add_edge('add1', 'router2')\n",
    "graph.add_edge('sub1', 'router2')\n",
    "\n",
    "# Conditional routing for second operation\n",
    "graph.add_conditional_edges('router2', router2, {\n",
    "    'add2': 'add2',\n",
    "    'sub2': 'sub2'\n",
    "})\n",
    "\n",
    "# After second operation, go to final operation\n",
    "graph.add_edge('add2', 'router3')\n",
    "graph.add_edge('sub2', 'router3')\n",
    "\n",
    "# Conditional routing for final operation\n",
    "graph.add_conditional_edges('router3', router3, {\n",
    "    'add3': 'add3',\n",
    "    'sub3': 'sub3'\n",
    "})\n",
    "\n",
    "# End points\n",
    "graph.add_edge('add3', END)\n",
    "graph.add_edge('sub3', END)\n",
    "\n",
    "# Compile the graph\n",
    "app = graph.compile()"
   ]
  },
  {
   "cell_type": "code",
   "execution_count": 55,
   "id": "69597076",
   "metadata": {},
   "outputs": [
    {
     "data": {
      "image/png": "[encoded data removed]",
      "text/plain": [
       "<IPython.core.display.Image object>"
      ]
     },
     "metadata": {},
     "output_type": "display_data"
    }
   ],
   "source": [
    "from IPython.display import Image, display\n",
    "\n",
    "display(Image(app.get_graph().draw_mermaid_png()))"
   ]
  },
  {
   "cell_type": "code",
   "execution_count": 56,
   "id": "504a5d29",
   "metadata": {},
   "outputs": [],
   "source": [
    "def test_calculator():\n",
    "    # Test case: (5 + 3) - (10 - 2) = 8 - 8 = 0\n",
    "    state = {\n",
    "        'num1': 5.0,\n",
    "        'num2': 3.0,\n",
    "        'num3': 10.0,\n",
    "        'num4': 2.0,\n",
    "        'operation1': '+',  # 5 + 3 = 8\n",
    "        'operation2': '-',  # 10 - 2 = 8  \n",
    "        'operation3': '-',  # 8 - 8 = 0\n",
    "        'mid': 0.0,\n",
    "        'mid2': 0.0,\n",
    "        'final': 0.0\n",
    "    }\n",
    "\n",
    "    result = app.invoke(state)\n",
    "    print(\n",
    "        f\"({state['num1']} {state['operation1']} {state['num2']}) {state['operation3']} ({state['num3']} {state['operation2']} {state['num4']}) = {result['final']}\"\n",
    "    )\n",
    "    return result\n"
   ]
  },
  {
   "cell_type": "code",
   "execution_count": 57,
   "id": "584b6bd8",
   "metadata": {},
   "outputs": [
    {
     "name": "stdout",
     "output_type": "stream",
     "text": [
      "(5.0 + 3.0) - (10.0 - 2.0) = 0.0\n"
     ]
    }
   ],
   "source": [
    "# Run the test\n",
    "if __name__ == \"__main__\":\n",
    "    test_result = test_calculator()\n"
   ]
  }
 ],
 "metadata": {
  "kernelspec": {
   "display_name": "venv",
   "language": "python",
   "name": "python3"
  },
  "language_info": {
   "codemirror_mode": {
    "name": "ipython",
    "version": 3
   },
   "file_extension": ".py",
   "mimetype": "text/x-python",
   "name": "python",
   "nbconvert_exporter": "python",
   "pygments_lexer": "ipython3",
   "version": "3.12.5"
  }
 },
 "nbformat": 4,
 "nbformat_minor": 5
}
