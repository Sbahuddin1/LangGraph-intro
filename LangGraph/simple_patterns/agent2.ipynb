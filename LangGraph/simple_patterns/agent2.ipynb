{
 "cells": [
  {
   "cell_type": "code",
   "execution_count": null,
   "id": "fa11547f",
   "metadata": {},
   "outputs": [],
   "source": [
    "from typing import List, TypedDict\n",
    "from langgraph.graph import StateGraph"
   ]
  },
  {
   "cell_type": "code",
   "execution_count": 29,
   "id": "b7bb2b12",
   "metadata": {},
   "outputs": [],
   "source": [
    "class AgentState(TypedDict):\n",
    "    \"\"\" State for the agent. \"\"\"\n",
    "    name: str\n",
    "    skills: List[str]\n",
    "    age: str\n",
    "    result: str"
   ]
  },
  {
   "cell_type": "code",
   "execution_count": 30,
   "id": "28c7d850",
   "metadata": {},
   "outputs": [],
   "source": [
    "def greeting_node(state: AgentState) -> AgentState:\n",
    "    \"\"\"\n",
    "    A node that returns a greeting message.\n",
    "    \"\"\"\n",
    "    state['name'] = \"Hey \" + state[\"name\"] + \", Goodjob at learning Langgraph.\"\n",
    "\n",
    "    return state"
   ]
  },
  {
   "cell_type": "code",
   "execution_count": 31,
   "id": "44fceaa3",
   "metadata": {},
   "outputs": [],
   "source": [
    "def processor(state: AgentState) -> AgentState:\n",
    "    \"\"\" Process the state and return a new state. \"\"\"\n",
    "    state['result'] = state['name'] + \" Your age is \" + state['age']\n",
    "    return state"
   ]
  },
  {
   "cell_type": "code",
   "execution_count": 32,
   "id": "f6320f20",
   "metadata": {},
   "outputs": [],
   "source": [
    "def processor2(state: AgentState) -> AgentState:\n",
    "    \"\"\" Process the state and return a new state. \"\"\"\n",
    "    state['result'] = state['result'] + \" and your skills are \" + \", \".join(\n",
    "        state['skills'])\n",
    "    return state"
   ]
  },
  {
   "cell_type": "code",
   "execution_count": 33,
   "id": "cff51b7c",
   "metadata": {},
   "outputs": [],
   "source": [
    "graph = StateGraph(AgentState)\n",
    "graph.add_node(\"processor\", processor)\n",
    "graph.add_node(\"greeting_node\", greeting_node)\n",
    "graph.add_node(\"processor2\", processor2)\n",
    "graph.set_entry_point(\"greeting_node\")\n",
    "graph.set_finish_point(\"processor2\")\n",
    "\n",
    "graph.add_edge(\"greeting_node\", \"processor\")\n",
    "graph.add_edge(\"processor\", \"processor2\")\n",
    "\n",
    "app = graph.compile()"
   ]
  },
  {
   "cell_type": "code",
   "execution_count": 34,
   "id": "e7a783d0",
   "metadata": {},
   "outputs": [
    {
     "data": {
      "image/png": "[encoded data removed]",
      "text/plain": [
       "<IPython.core.display.Image object>"
      ]
     },
     "metadata": {},
     "output_type": "display_data"
    }
   ],
   "source": [
    "from IPython.display import Image, display\n",
    "\n",
    "display(Image(app.get_graph().draw_mermaid_png()))"
   ]
  },
  {
   "cell_type": "code",
   "execution_count": 35,
   "id": "f5d52156",
   "metadata": {},
   "outputs": [],
   "source": [
    "answer = app.invoke({\n",
    "    \"name\": \"Sbahuddin\",\n",
    "    \"skills\": [\"Python\", \"Langgraph\", \"AI\"],\n",
    "    \"age\": \"20\"\n",
    "})"
   ]
  },
  {
   "cell_type": "code",
   "execution_count": null,
   "id": "da56c229",
   "metadata": {},
   "outputs": [
    {
     "data": {
      "text/plain": [
       "'Hey Sbahuddin, Goodjob at learning Langgraph. Your age is 20 and your skills are Python, Langgraph, AI'"
      ]
     },
     "execution_count": 36,
     "metadata": {},
     "output_type": "execute_result"
    }
   ],
   "source": [
    "answer['result']"
   ]
  }
 ],
 "metadata": {
  "kernelspec": {
   "display_name": "venv",
   "language": "python",
   "name": "python3"
  },
  "language_info": {
   "codemirror_mode": {
    "name": "ipython",
    "version": 3
   },
   "file_extension": ".py",
   "mimetype": "text/x-python",
   "name": "python",
   "nbconvert_exporter": "python",
   "pygments_lexer": "ipython3",
   "version": "3.12.5"
  }
 },
 "nbformat": 4,
 "nbformat_minor": 5
}
