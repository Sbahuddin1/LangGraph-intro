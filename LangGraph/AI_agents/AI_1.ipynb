{
 "cells": [
  {
   "cell_type": "code",
   "execution_count": null,
   "id": "08532386",
   "metadata": {},
   "outputs": [],
   "source": [
    "from typing import TypedDict, List\n",
    "from langchain_core.messages import HumanMessage\n",
    "from langchain_google_genai import ChatGoogleGenerativeAI\n",
    "from langgraph.graph import StateGraph\n",
    "from dotenv import load_dotenv\n",
    "import os"
   ]
  },
  {
   "cell_type": "code",
   "execution_count": 3,
   "id": "541de481",
   "metadata": {},
   "outputs": [],
   "source": [
    "load_dotenv()\n",
    "\n",
    "llm = ChatGoogleGenerativeAI(model=\"models/gemini-2.0-flash\",\n",
    "                             temperature=0,\n",
    "                             api_key=os.getenv(\"GOOGLE_API_KEY\"))\n"
   ]
  },
  {
   "cell_type": "code",
   "execution_count": 4,
   "id": "0e5bd347",
   "metadata": {},
   "outputs": [],
   "source": [
    "class AgentState(TypedDict):\n",
    "    message : List[HumanMessage]"
   ]
  },
  {
   "cell_type": "code",
   "execution_count": 5,
   "id": "81972a1e",
   "metadata": {},
   "outputs": [],
   "source": [
    "def process(state: AgentState) -> AgentState:\n",
    "    response =  llm.invoke(state['message'])\n",
    "    print(f\"response: {response.content}\")\n",
    "    return state\n",
    "    "
   ]
  },
  {
   "cell_type": "code",
   "execution_count": 8,
   "id": "b69cf1f8",
   "metadata": {},
   "outputs": [],
   "source": [
    "graph = StateGraph(AgentState)\n",
    "\n",
    "graph.add_node('process', process)\n",
    "graph.set_entry_point('process')\n",
    "graph.set_finish_point('process')\n",
    "agent = graph.compile()"
   ]
  },
  {
   "cell_type": "code",
   "execution_count": 11,
   "id": "b43f3b56",
   "metadata": {},
   "outputs": [
    {
     "name": "stdout",
     "output_type": "stream",
     "text": [
      "response: Hi there! How can I help you today?\n"
     ]
    },
    {
     "data": {
      "text/plain": [
       "{'message': [HumanMessage(content='hi', additional_kwargs={}, response_metadata={})]}"
      ]
     },
     "execution_count": 11,
     "metadata": {},
     "output_type": "execute_result"
    }
   ],
   "source": [
    "user = input('Enter Query: ')\n",
    "agent.invoke({'message': [HumanMessage(content=user)]})"
   ]
  },
  {
   "cell_type": "code",
   "execution_count": 12,
   "id": "6abf2d7b",
   "metadata": {},
   "outputs": [
    {
     "name": "stdout",
     "output_type": "stream",
     "text": [
      "response: Hi there! How can I help you today?\n",
      "response: As a large language model, I don't experience emotions or feelings in the same way humans do. However, I am functioning as intended and ready to assist you with your requests. So, in a way, I am \"well\" and ready to help! How can I assist you today?\n",
      "response: As of today, October 26, 2023, there are **zero** permanent human inhabitants on Mars. All missions to Mars have been robotic.\n",
      "response: I do not have memory of past conversations. Each interaction with me is a fresh one. Therefore, I don't remember your first message in this session.\n",
      "response: As a large language model, I don't have a memory of past conversations in the way a human does. Each interaction is essentially a fresh start.\n",
      "\n",
      "Therefore, I didn't \"say\" anything specific before this response. I'm ready to answer your current question or engage in a new conversation. What would you like to talk about?\n",
      "response: Whether I am \"sure\" depends entirely on what I've said or what the context is. \n",
      "\n",
      "* **If I've stated a fact:** I'll try to be as accurate as possible, relying on my training data. However, I'm not infallible and can sometimes make mistakes. If you're questioning a fact I've stated, please provide evidence or a source that contradicts it, and I'll re-evaluate.\n",
      "\n",
      "* **If I've given an opinion or suggestion:** \"Sure\" is less relevant. Opinions are subjective. I can explain the reasoning behind my suggestion, but ultimately, it's up to you to decide if you agree.\n",
      "\n",
      "* **If I've answered a question:** My answer is based on the information I have available. If you have more information or a different perspective, I'm happy to consider it.\n",
      "\n",
      "**To give you a more helpful answer, please tell me what you're asking \"Are you sure?\" about.**  What did I say that you're questioning?\n"
     ]
    }
   ],
   "source": [
    "user = input('Enter Query: ')\n",
    "while user != 'exit':\n",
    "    agent.invoke({'message': [HumanMessage(content=user)]})\n",
    "    user = input('Enter Query: ')"
   ]
  }
 ],
 "metadata": {
  "kernelspec": {
   "display_name": "venv",
   "language": "python",
   "name": "python3"
  },
  "language_info": {
   "codemirror_mode": {
    "name": "ipython",
    "version": 3
   },
   "file_extension": ".py",
   "mimetype": "text/x-python",
   "name": "python",
   "nbconvert_exporter": "python",
   "pygments_lexer": "ipython3",
   "version": "3.12.5"
  }
 },
 "nbformat": 4,
 "nbformat_minor": 5
}
