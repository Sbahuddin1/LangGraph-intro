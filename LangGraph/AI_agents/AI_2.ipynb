{
 "cells": [
  {
   "cell_type": "code",
   "execution_count": 4,
   "id": "e310946f",
   "metadata": {},
   "outputs": [],
   "source": [
    "from typing import TypedDict, List, Union\n",
    "from langchain_core.messages import HumanMessage, AIMessage\n",
    "from langchain_google_genai import ChatGoogleGenerativeAI\n",
    "from langgraph.graph import StateGraph\n",
    "from dotenv import load_dotenv\n",
    "import os"
   ]
  },
  {
   "cell_type": "code",
   "execution_count": 5,
   "id": "bf54aee9",
   "metadata": {},
   "outputs": [],
   "source": [
    "load_dotenv()\n",
    "\n",
    "llm = ChatGoogleGenerativeAI(model=\"models/gemini-2.0-flash\",\n",
    "                             temperature=0,\n",
    "                             api_key=os.getenv(\"GOOGLE_API_KEY\"))\n"
   ]
  },
  {
   "cell_type": "code",
   "execution_count": 6,
   "id": "115ccfab",
   "metadata": {},
   "outputs": [],
   "source": [
    "class AgentState(TypedDict):\n",
    "    message : List[Union[HumanMessage, AIMessage]]\n",
    "    "
   ]
  },
  {
   "cell_type": "code",
   "execution_count": 7,
   "id": "6652977b",
   "metadata": {},
   "outputs": [],
   "source": [
    "def process(state: AgentState) -> AgentState:\n",
    "    \"\"\"Process the state by invoking the LLM with the last human message.\"\"\"\n",
    "    \n",
    "    response = llm.invoke(state['message'])\n",
    "    state['message'].append(AIMessage(content=response.content))\n",
    "    print(f\"AI: {response.content}\")\n",
    "    return state"
   ]
  },
  {
   "cell_type": "code",
   "execution_count": 8,
   "id": "2dbde780",
   "metadata": {},
   "outputs": [],
   "source": [
    "graph = StateGraph(AgentState)\n",
    "\n",
    "graph.add_node('process', process)\n",
    "graph.set_entry_point('process')\n",
    "graph.set_finish_point('process')\n",
    "agent = graph.compile()"
   ]
  },
  {
   "cell_type": "code",
   "execution_count": null,
   "id": "1879e9d5",
   "metadata": {},
   "outputs": [
    {
     "name": "stdout",
     "output_type": "stream",
     "text": [
      "AI: Hi there! How can I help you today?\n",
      "[HumanMessage(content='hi there', additional_kwargs={}, response_metadata={}), AIMessage(content='Hi there! How can I help you today?', additional_kwargs={}, response_metadata={})]\n",
      "AI: Why don't scientists trust atoms?\n",
      "\n",
      "Because they make up everything!\n",
      "[HumanMessage(content='hi there', additional_kwargs={}, response_metadata={}), AIMessage(content='Hi there! How can I help you today?', additional_kwargs={}, response_metadata={}), HumanMessage(content='tell me a joke', additional_kwargs={}, response_metadata={}), AIMessage(content=\"Why don't scientists trust atoms?\\n\\nBecause they make up everything!\", additional_kwargs={}, response_metadata={})]\n",
      "conversation saved to logging.txt\n"
     ]
    }
   ],
   "source": [
    "convesation_history = []\n",
    "\n",
    "user_input = input('Enter: ')\n",
    "while user_input != 'exit':\n",
    "    convesation_history.append(HumanMessage(content=user_input))\n",
    "    result = agent.invoke({'message': convesation_history})\n",
    "    \n",
    "    print(result['message'])\n",
    "    convesation_history =  result['message']\n",
    "    \n",
    "    user_input =  input('Enter: ')\n",
    "    \n",
    "    \n",
    "    \n",
    "with open('history.txt', 'w') as file:\n",
    "    file.write(\"conversation log\\n\\n\")\n",
    "    \n",
    "    for msg in convesation_history:\n",
    "        if isinstance(msg, HumanMessage):\n",
    "            file.write(f'You: {msg.content}\\n')\n",
    "        elif isinstance(msg, AIMessage):\n",
    "            file.write(f'AI: {msg.content}\\n\\n')\n",
    "    \n",
    "    file.write('End of converstion')\n",
    "\n",
    "print('conversation saved to hisory.txt\\n')"
   ]
  }
 ],
 "metadata": {
  "kernelspec": {
   "display_name": "venv",
   "language": "python",
   "name": "python3"
  },
  "language_info": {
   "codemirror_mode": {
    "name": "ipython",
    "version": 3
   },
   "file_extension": ".py",
   "mimetype": "text/x-python",
   "name": "python",
   "nbconvert_exporter": "python",
   "pygments_lexer": "ipython3",
   "version": "3.12.5"
  }
 },
 "nbformat": 4,
 "nbformat_minor": 5
}
